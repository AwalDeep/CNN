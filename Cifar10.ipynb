{
  "nbformat": 4,
  "nbformat_minor": 0,
  "metadata": {
    "colab": {
      "name": "CIFAR10.ipynb",
      "version": "0.3.2",
      "provenance": []
    },
    "kernelspec": {
      "name": "python3",
      "display_name": "Python 3"
    },
    "accelerator": "GPU"
  },
  "cells": [
    {
      "metadata": {
        "id": "e33ddFKRsZfS",
        "colab_type": "text"
      },
      "cell_type": "markdown",
      "source": [
        "# Import libraries"
      ]
    },
    {
      "metadata": {
        "id": "QpvvKI3jIssW",
        "colab_type": "code",
        "colab": {}
      },
      "cell_type": "code",
      "source": [
        "import numpy as np\n",
        "import pandas as pd \n",
        "import matplotlib.pyplot as plt\n",
        "%matplotlib  inline \n",
        "import warnings\n",
        "warnings.filterwarnings('ignore')\n",
        "import time"
      ],
      "execution_count": 0,
      "outputs": []
    },
    {
      "metadata": {
        "id": "Fc-B-ZT_I3J6",
        "colab_type": "code",
        "outputId": "84fd9168-3fef-4162-e787-b2c689e2f7bc",
        "colab": {
          "base_uri": "https://localhost:8080/",
          "height": 34
        }
      },
      "cell_type": "code",
      "source": [
        "import keras\n",
        "from keras.datasets import cifar10\n",
        "from keras.models import Sequential\n",
        "from keras.utils import np_utils\n",
        "from keras.preprocessing.image import ImageDataGenerator\n",
        "from keras.layers import Dense, Activation, Flatten, Dropout, BatchNormalization\n",
        "from keras.layers import Conv2D, MaxPooling2D\n",
        "from keras.datasets import cifar10\n",
        "from keras import regularizers\n",
        "from keras.callbacks import LearningRateScheduler"
      ],
      "execution_count": 2,
      "outputs": [
        {
          "output_type": "stream",
          "text": [
            "Using TensorFlow backend.\n"
          ],
          "name": "stderr"
        }
      ]
    },
    {
      "metadata": {
        "id": "-L_bClXHsg59",
        "colab_type": "text"
      },
      "cell_type": "markdown",
      "source": [
        "# Load dataset "
      ]
    },
    {
      "metadata": {
        "id": "idhKHz86KcLA",
        "colab_type": "code",
        "outputId": "c51e32c1-dfc5-4e10-9f6d-f8b86b9d7550",
        "colab": {
          "base_uri": "https://localhost:8080/",
          "height": 52
        }
      },
      "cell_type": "code",
      "source": [
        "(x_train, y_train), (x_test, y_test) = cifar10.load_data()"
      ],
      "execution_count": 3,
      "outputs": [
        {
          "output_type": "stream",
          "text": [
            "Downloading data from https://www.cs.toronto.edu/~kriz/cifar-10-python.tar.gz\n",
            "170500096/170498071 [==============================] - 35s 0us/step\n"
          ],
          "name": "stdout"
        }
      ]
    },
    {
      "metadata": {
        "id": "bIGGMRoXsUZC",
        "colab_type": "text"
      },
      "cell_type": "markdown",
      "source": [
        "# Display images\n"
      ]
    },
    {
      "metadata": {
        "id": "PR6aWRguqRoj",
        "colab_type": "code",
        "colab": {}
      },
      "cell_type": "code",
      "source": [
        "from keras.datasets import cifar10\n",
        "(train_features, train_labels), (test_features, test_labels) = (x_train, y_train), (x_test, y_test)\n",
        "num_train, img_channels, img_rows, img_cols =  train_features.shape\n",
        "num_test, _, _, _ =  test_features.shape\n",
        "num_classes = len(np.unique(train_labels))"
      ],
      "execution_count": 0,
      "outputs": []
    },
    {
      "metadata": {
        "id": "oNS8XBXlsqPr",
        "colab_type": "code",
        "colab": {
          "base_uri": "https://localhost:8080/",
          "height": 208
        },
        "outputId": "d675158b-9de3-43e4-9115-6859767b7a7f"
      },
      "cell_type": "code",
      "source": [
        "class_names = ['airplane','automobile','bird','cat','deer',\n",
        "               'dog','frog','horse','ship','truck']\n",
        "fig = plt.figure(figsize=(8,3))\n",
        "for i in range(num_classes):\n",
        "    ax = fig.add_subplot(2, 5, 1 + i, xticks=[], yticks=[])\n",
        "    idx = np.where(train_labels[:]==i)[0]\n",
        "    features_idx = train_features[idx,::]\n",
        "    img_num = np.random.randint(features_idx.shape[0])\n",
        "    im = np.transpose(features_idx[img_num,::], (0, 1, 2))\n",
        "    ax.set_title(class_names[i])\n",
        "    plt.imshow(im)\n"
      ],
      "execution_count": 25,
      "outputs": [
        {
          "output_type": "display_data",
          "data": {
            "image/png": "[encoded data removed]",
            "text/plain": [
              "<Figure size 576x216 with 10 Axes>"
            ]
          },
          "metadata": {
            "tags": []
          }
        }
      ]
    },
    {
      "metadata": {
        "id": "0sZbz4jGtKny",
        "colab_type": "code",
        "colab": {
          "base_uri": "https://localhost:8080/",
          "height": 34
        },
        "outputId": "ae379489-fda9-4635-a65d-c11eeba085f8"
      },
      "cell_type": "code",
      "source": [
        "im.shape"
      ],
      "execution_count": 26,
      "outputs": [
        {
          "output_type": "execute_result",
          "data": {
            "text/plain": [
              "(32, 32, 3)"
            ]
          },
          "metadata": {
            "tags": []
          },
          "execution_count": 26
        }
      ]
    },
    {
      "metadata": {
        "id": "5OFZFh0ZtlFi",
        "colab_type": "text"
      },
      "cell_type": "markdown",
      "source": [
        " # Data preprocessing"
      ]
    },
    {
      "metadata": {
        "id": "QfqnDN4zKi2w",
        "colab_type": "code",
        "colab": {}
      },
      "cell_type": "code",
      "source": [
        "#convert to float and normalize\n",
        "train_features = train_features.astype('float32')/255\n",
        "test_features = test_features.astype('float32')/255\n",
        "\n",
        "# convert class labels to binary class labels\n",
        "train_labels = np_utils.to_categorical(train_labels, num_classes)\n",
        "test_labels = np_utils.to_categorical(test_labels, num_classes)"
      ],
      "execution_count": 0,
      "outputs": []
    },
    {
      "metadata": {
        "id": "EG-QSySlxepj",
        "colab_type": "text"
      },
      "cell_type": "markdown",
      "source": [
        "# Function to plot model accuracy and loss ; to compute test accuracy."
      ]
    },
    {
      "metadata": {
        "id": "oEHrWtjkLCc4",
        "colab_type": "code",
        "colab": {}
      },
      "cell_type": "code",
      "source": [
        "def plot_model_history(model_history):\n",
        "    fig, axs = plt.subplots(1,2,figsize=(15,5))\n",
        "    # summarize history for accuracy\n",
        "    axs[0].plot(range(1,len(model_history.history['acc'])+1),model_history.history['acc'])\n",
        "    axs[0].plot(range(1,len(model_history.history['val_acc'])+1),model_history.history['val_acc'])\n",
        "    axs[0].set_title('Model Accuracy')\n",
        "    axs[0].set_ylabel('Accuracy')\n",
        "    axs[0].set_xlabel('Epoch')\n",
        "    axs[0].set_xticks(np.arange(1,len(model_history.history['acc'])+1),len(model_history.history['acc'])/10)\n",
        "    axs[0].legend(['train', 'val'], loc='best')\n",
        "    # summarize history for loss\n",
        "    axs[1].plot(range(1,len(model_history.history['loss'])+1),model_history.history['loss'])\n",
        "    axs[1].plot(range(1,len(model_history.history['val_loss'])+1),model_history.history['val_loss'])\n",
        "    axs[1].set_title('Model Loss')\n",
        "    axs[1].set_ylabel('Loss')\n",
        "    axs[1].set_xlabel('Epoch')\n",
        "    axs[1].set_xticks(np.arange(1,len(model_history.history['loss'])+1),len(model_history.history['loss'])/10)\n",
        "    axs[1].legend(['train', 'val'], loc='best')\n",
        "    plt.show()"
      ],
      "execution_count": 0,
      "outputs": []
    },
    {
      "metadata": {
        "id": "xzrO_BxppoD9",
        "colab_type": "code",
        "colab": {}
      },
      "cell_type": "code",
      "source": [
        "def accuracy(test_x, test_y, model):\n",
        "    result = model.predict(test_x)\n",
        "    predicted_class = np.argmax(result, axis=1)\n",
        "    true_class = np.argmax(test_y, axis=1)\n",
        "    num_correct = np.sum(predicted_class == true_class) \n",
        "    accuracy = float(num_correct)/result.shape[0]\n",
        "    return (accuracy * 100)"
      ],
      "execution_count": 0,
      "outputs": []
    },
    {
      "metadata": {
        "id": "5j0frfq7xtBU",
        "colab_type": "text"
      },
      "cell_type": "markdown",
      "source": [
        "# CNN for CIFAR10 dataset"
      ]
    },
    {
      "metadata": {
        "id": "5_kQzP830qoF",
        "colab_type": "code",
        "colab": {}
      },
      "cell_type": "code",
      "source": [
        "from keras import backend as K\n",
        "K.set_image_dim_ordering('th')"
      ],
      "execution_count": 0,
      "outputs": []
    },
    {
      "metadata": {
        "id": "jGDGozCSx0on",
        "colab_type": "code",
        "colab": {}
      },
      "cell_type": "code",
      "source": [
        "# Define the model\n",
        "model = Sequential()\n",
        "model.add(Conv2D(48, 3, 3, border_mode='same', input_shape=(3,32, 32)))\n",
        "model.add(Activation('relu'))\n",
        "model.add(Conv2D(48, 3, 3))\n",
        "model.add(Activation('relu'))\n",
        "model.add(MaxPooling2D(pool_size=(2, 2)))\n",
        "model.add(Dropout(0.25))\n",
        "model.add(Conv2D(96, 3, 3, border_mode='same'))\n",
        "model.add(Activation('relu'))\n",
        "model.add(Conv2D(96, 3, 3))\n",
        "model.add(Activation('relu'))\n",
        "model.add(MaxPooling2D(pool_size=(2, 2)))\n",
        "model.add(Dropout(0.25))\n",
        "model.add(Conv2D(192, 3, 3, border_mode='same'))\n",
        "model.add(Activation('relu'))\n",
        "model.add(Conv2D(192, 3, 3))\n",
        "model.add(Activation('relu'))\n",
        "model.add(MaxPooling2D(pool_size=(2, 2)))\n",
        "model.add(Dropout(0.25))\n",
        "model.add(Flatten())\n",
        "model.add(Dense(512))\n",
        "model.add(Activation('relu'))\n",
        "model.add(Dropout(0.5))\n",
        "model.add(Dense(256))\n",
        "model.add(Activation('relu'))\n",
        "model.add(Dropout(0.5))\n",
        "model.add(Dense(num_classes, activation='softmax'))"
      ],
      "execution_count": 0,
      "outputs": []
    },
    {
      "metadata": {
        "id": "60aYwPdy25FR",
        "colab_type": "code",
        "colab": {}
      },
      "cell_type": "code",
      "source": [
        "# Compile the model\n",
        "model.compile(optimizer='adam', loss='categorical_crossentropy', metrics=['accuracy'])\n"
      ],
      "execution_count": 0,
      "outputs": []
    },
    {
      "metadata": {
        "id": "rY2u9LAh4Mpr",
        "colab_type": "code",
        "colab": {}
      },
      "cell_type": "code",
      "source": [
        "train_features=np.transpose(train_features, (0,3, 2, 1))"
      ],
      "execution_count": 0,
      "outputs": []
    },
    {
      "metadata": {
        "id": "OaoKrFM54zfJ",
        "colab_type": "code",
        "colab": {}
      },
      "cell_type": "code",
      "source": [
        "test_features=np.transpose(test_features, (0,3, 2, 1))"
      ],
      "execution_count": 0,
      "outputs": []
    },
    {
      "metadata": {
        "id": "yL0qG4-MyiBq",
        "colab_type": "code",
        "colab": {
          "base_uri": "https://localhost:8080/",
          "height": 7781
        },
        "outputId": "6241eaa6-762d-4eb9-e40a-b322473c8f4b"
      },
      "cell_type": "code",
      "source": [
        "# Train the model\n",
        "\n",
        "\n",
        "\n",
        "start = time.time()\n",
        "model_info = model.fit(train_features, train_labels, \n",
        "                       batch_size=128, epochs=200)\n",
        "end = time.time()\n",
        "\n",
        "\n",
        "# plot model history\n",
        "plot_model_history(model_info)\n",
        "print(\"Model took %0.2f seconds to train\"%(end - start))\n",
        "# compute test accuracy\n",
        "print(\"Accuracy on test data is: %0.2f\"%accuracy(test_features, test_labels, model))"
      ],
      "execution_count": 67,
      "outputs": [
        {
          "output_type": "stream",
          "text": [
            "Epoch 1/200\n",
            "50000/50000 [==============================] - 19s 372us/step - loss: 0.6166 - acc: 0.7903\n",
            "Epoch 2/200\n",
            "50000/50000 [==============================] - 19s 371us/step - loss: 0.5916 - acc: 0.7984\n",
            "Epoch 3/200\n",
            "50000/50000 [==============================] - 19s 372us/step - loss: 0.5783 - acc: 0.8034\n",
            "Epoch 4/200\n",
            "50000/50000 [==============================] - 19s 370us/step - loss: 0.5521 - acc: 0.8110\n",
            "Epoch 5/200\n",
            "50000/50000 [==============================] - 19s 371us/step - loss: 0.5433 - acc: 0.8137\n",
            "Epoch 6/200\n",
            "50000/50000 [==============================] - 19s 372us/step - loss: 0.5399 - acc: 0.8166\n",
            "Epoch 7/200\n",
            "50000/50000 [==============================] - 19s 372us/step - loss: 0.5179 - acc: 0.8225\n",
            "Epoch 8/200\n",
            "50000/50000 [==============================] - 19s 371us/step - loss: 0.5142 - acc: 0.8262\n",
            "Epoch 9/200\n",
            "50000/50000 [==============================] - 19s 371us/step - loss: 0.4958 - acc: 0.8294\n",
            "Epoch 10/200\n",
            "50000/50000 [==============================] - 19s 370us/step - loss: 0.4897 - acc: 0.8333\n",
            "Epoch 11/200\n",
            "50000/50000 [==============================] - 19s 372us/step - loss: 0.4878 - acc: 0.8338\n",
            "Epoch 12/200\n",
            "50000/50000 [==============================] - 18s 368us/step - loss: 0.4725 - acc: 0.8386\n",
            "Epoch 13/200\n",
            "50000/50000 [==============================] - 18s 369us/step - loss: 0.4737 - acc: 0.8389\n",
            "Epoch 14/200\n",
            "50000/50000 [==============================] - 19s 371us/step - loss: 0.4623 - acc: 0.8417\n",
            "Epoch 15/200\n",
            "50000/50000 [==============================] - 19s 371us/step - loss: 0.4442 - acc: 0.8502\n",
            "Epoch 16/200\n",
            "50000/50000 [==============================] - 18s 370us/step - loss: 0.4489 - acc: 0.8466\n",
            "Epoch 17/200\n",
            "50000/50000 [==============================] - 18s 369us/step - loss: 0.4335 - acc: 0.8512\n",
            "Epoch 18/200\n",
            "50000/50000 [==============================] - 18s 369us/step - loss: 0.4294 - acc: 0.8543\n",
            "Epoch 19/200\n",
            "50000/50000 [==============================] - 19s 371us/step - loss: 0.4248 - acc: 0.8529\n",
            "Epoch 20/200\n",
            "50000/50000 [==============================] - 18s 370us/step - loss: 0.4256 - acc: 0.8546\n",
            "Epoch 21/200\n",
            "50000/50000 [==============================] - 19s 370us/step - loss: 0.4150 - acc: 0.8581\n",
            "Epoch 22/200\n",
            "50000/50000 [==============================] - 19s 370us/step - loss: 0.4074 - acc: 0.8624\n",
            "Epoch 23/200\n",
            "50000/50000 [==============================] - 19s 370us/step - loss: 0.4085 - acc: 0.8607\n",
            "Epoch 24/200\n",
            "50000/50000 [==============================] - 18s 369us/step - loss: 0.4049 - acc: 0.8633\n",
            "Epoch 25/200\n",
            "50000/50000 [==============================] - 18s 370us/step - loss: 0.3957 - acc: 0.8642\n",
            "Epoch 26/200\n",
            "50000/50000 [==============================] - 18s 369us/step - loss: 0.3949 - acc: 0.8660\n",
            "Epoch 27/200\n",
            "50000/50000 [==============================] - 19s 370us/step - loss: 0.3962 - acc: 0.8677\n",
            "Epoch 28/200\n",
            "50000/50000 [==============================] - 18s 370us/step - loss: 0.3813 - acc: 0.8718\n",
            "Epoch 29/200\n",
            "50000/50000 [==============================] - 19s 371us/step - loss: 0.3826 - acc: 0.8713\n",
            "Epoch 30/200\n",
            "50000/50000 [==============================] - 19s 371us/step - loss: 0.3726 - acc: 0.8722\n",
            "Epoch 31/200\n",
            "50000/50000 [==============================] - 18s 369us/step - loss: 0.3788 - acc: 0.8732\n",
            "Epoch 32/200\n",
            "50000/50000 [==============================] - 19s 371us/step - loss: 0.3743 - acc: 0.8741\n",
            "Epoch 33/200\n",
            "50000/50000 [==============================] - 18s 369us/step - loss: 0.3622 - acc: 0.8760\n",
            "Epoch 34/200\n",
            "50000/50000 [==============================] - 19s 371us/step - loss: 0.3587 - acc: 0.8789\n",
            "Epoch 35/200\n",
            "50000/50000 [==============================] - 18s 370us/step - loss: 0.3587 - acc: 0.8801\n",
            "Epoch 36/200\n",
            "50000/50000 [==============================] - 18s 369us/step - loss: 0.3559 - acc: 0.8804\n",
            "Epoch 37/200\n",
            "50000/50000 [==============================] - 19s 371us/step - loss: 0.3564 - acc: 0.8790\n",
            "Epoch 38/200\n",
            "50000/50000 [==============================] - 19s 371us/step - loss: 0.3488 - acc: 0.8814\n",
            "Epoch 39/200\n",
            "50000/50000 [==============================] - 18s 370us/step - loss: 0.3475 - acc: 0.8831\n",
            "Epoch 40/200\n",
            "50000/50000 [==============================] - 18s 368us/step - loss: 0.3457 - acc: 0.8856\n",
            "Epoch 41/200\n",
            "50000/50000 [==============================] - 19s 371us/step - loss: 0.3434 - acc: 0.8851\n",
            "Epoch 42/200\n",
            "50000/50000 [==============================] - 19s 375us/step - loss: 0.3432 - acc: 0.8848\n",
            "Epoch 43/200\n",
            "50000/50000 [==============================] - 19s 376us/step - loss: 0.3363 - acc: 0.8875\n",
            "Epoch 44/200\n",
            "50000/50000 [==============================] - 19s 374us/step - loss: 0.3373 - acc: 0.8884\n",
            "Epoch 45/200\n",
            "50000/50000 [==============================] - 19s 374us/step - loss: 0.3258 - acc: 0.8900\n",
            "Epoch 46/200\n",
            "50000/50000 [==============================] - 19s 375us/step - loss: 0.3353 - acc: 0.8893\n",
            "Epoch 47/200\n",
            "50000/50000 [==============================] - 19s 374us/step - loss: 0.3288 - acc: 0.8906\n",
            "Epoch 48/200\n",
            "50000/50000 [==============================] - 19s 374us/step - loss: 0.3298 - acc: 0.8909\n",
            "Epoch 49/200\n",
            "50000/50000 [==============================] - 19s 375us/step - loss: 0.3218 - acc: 0.8932\n",
            "Epoch 50/200\n",
            "50000/50000 [==============================] - 19s 375us/step - loss: 0.3167 - acc: 0.8939\n",
            "Epoch 51/200\n",
            "50000/50000 [==============================] - 19s 374us/step - loss: 0.3141 - acc: 0.8956\n",
            "Epoch 52/200\n",
            "50000/50000 [==============================] - 19s 375us/step - loss: 0.3184 - acc: 0.8966\n",
            "Epoch 53/200\n",
            "50000/50000 [==============================] - 19s 374us/step - loss: 0.3299 - acc: 0.8925\n",
            "Epoch 54/200\n",
            "50000/50000 [==============================] - 19s 376us/step - loss: 0.3151 - acc: 0.8968\n",
            "Epoch 55/200\n",
            "50000/50000 [==============================] - 19s 375us/step - loss: 0.3066 - acc: 0.8985\n",
            "Epoch 56/200\n",
            "50000/50000 [==============================] - 19s 373us/step - loss: 0.3197 - acc: 0.8937\n",
            "Epoch 57/200\n",
            "50000/50000 [==============================] - 18s 370us/step - loss: 0.3081 - acc: 0.8982\n",
            "Epoch 58/200\n",
            "50000/50000 [==============================] - 18s 370us/step - loss: 0.3068 - acc: 0.8990\n",
            "Epoch 59/200\n",
            "50000/50000 [==============================] - 18s 370us/step - loss: 0.3016 - acc: 0.8996\n",
            "Epoch 60/200\n",
            "50000/50000 [==============================] - 19s 370us/step - loss: 0.3048 - acc: 0.8985\n",
            "Epoch 61/200\n",
            "50000/50000 [==============================] - 19s 370us/step - loss: 0.3039 - acc: 0.8991\n",
            "Epoch 62/200\n",
            "50000/50000 [==============================] - 18s 369us/step - loss: 0.2985 - acc: 0.9022\n",
            "Epoch 63/200\n",
            "50000/50000 [==============================] - 19s 370us/step - loss: 0.2973 - acc: 0.9027\n",
            "Epoch 64/200\n",
            "50000/50000 [==============================] - 18s 370us/step - loss: 0.3047 - acc: 0.9006\n",
            "Epoch 65/200\n",
            "50000/50000 [==============================] - 19s 371us/step - loss: 0.2951 - acc: 0.9034\n",
            "Epoch 66/200\n",
            "50000/50000 [==============================] - 19s 371us/step - loss: 0.2892 - acc: 0.9053\n",
            "Epoch 67/200\n",
            "50000/50000 [==============================] - 19s 370us/step - loss: 0.2893 - acc: 0.9037\n",
            "Epoch 68/200\n",
            "50000/50000 [==============================] - 19s 372us/step - loss: 0.3009 - acc: 0.9022\n",
            "Epoch 69/200\n",
            "50000/50000 [==============================] - 19s 371us/step - loss: 0.2880 - acc: 0.9050\n",
            "Epoch 70/200\n",
            "50000/50000 [==============================] - 19s 371us/step - loss: 0.2935 - acc: 0.9053\n",
            "Epoch 71/200\n",
            "50000/50000 [==============================] - 18s 370us/step - loss: 0.2917 - acc: 0.9052\n",
            "Epoch 72/200\n",
            "50000/50000 [==============================] - 19s 370us/step - loss: 0.2910 - acc: 0.9054\n",
            "Epoch 73/200\n",
            "50000/50000 [==============================] - 19s 371us/step - loss: 0.2859 - acc: 0.9074\n",
            "Epoch 74/200\n",
            "50000/50000 [==============================] - 19s 372us/step - loss: 0.2965 - acc: 0.9036\n",
            "Epoch 75/200\n",
            "50000/50000 [==============================] - 19s 372us/step - loss: 0.2992 - acc: 0.9035\n",
            "Epoch 76/200\n",
            "50000/50000 [==============================] - 19s 371us/step - loss: 0.2745 - acc: 0.9120\n",
            "Epoch 77/200\n",
            "50000/50000 [==============================] - 18s 369us/step - loss: 0.2888 - acc: 0.9069\n",
            "Epoch 78/200\n",
            "50000/50000 [==============================] - 18s 369us/step - loss: 0.2853 - acc: 0.9081\n",
            "Epoch 79/200\n",
            "50000/50000 [==============================] - 19s 371us/step - loss: 0.2822 - acc: 0.9101\n",
            "Epoch 80/200\n",
            "50000/50000 [==============================] - 19s 373us/step - loss: 0.2815 - acc: 0.9087\n",
            "Epoch 81/200\n",
            "50000/50000 [==============================] - 19s 370us/step - loss: 0.2756 - acc: 0.9106\n",
            "Epoch 82/200\n",
            "50000/50000 [==============================] - 18s 370us/step - loss: 0.2771 - acc: 0.9119\n",
            "Epoch 83/200\n",
            "50000/50000 [==============================] - 19s 370us/step - loss: 0.2808 - acc: 0.9112\n",
            "Epoch 84/200\n",
            "50000/50000 [==============================] - 18s 369us/step - loss: 0.2813 - acc: 0.9105\n",
            "Epoch 85/200\n",
            "50000/50000 [==============================] - 19s 371us/step - loss: 0.2799 - acc: 0.9109\n",
            "Epoch 86/200\n",
            "50000/50000 [==============================] - 19s 372us/step - loss: 0.2737 - acc: 0.9124\n",
            "Epoch 87/200\n",
            "50000/50000 [==============================] - 18s 370us/step - loss: 0.2730 - acc: 0.9136\n",
            "Epoch 88/200\n",
            "50000/50000 [==============================] - 19s 371us/step - loss: 0.2816 - acc: 0.9108\n",
            "Epoch 89/200\n",
            "50000/50000 [==============================] - 18s 370us/step - loss: 0.2802 - acc: 0.9109\n",
            "Epoch 90/200\n",
            "50000/50000 [==============================] - 19s 370us/step - loss: 0.2702 - acc: 0.9145\n",
            "Epoch 91/200\n",
            "50000/50000 [==============================] - 18s 369us/step - loss: 0.2788 - acc: 0.9126\n",
            "Epoch 92/200\n",
            "50000/50000 [==============================] - 19s 372us/step - loss: 0.2666 - acc: 0.9146\n",
            "Epoch 93/200\n",
            "50000/50000 [==============================] - 19s 372us/step - loss: 0.2746 - acc: 0.9116\n",
            "Epoch 94/200\n",
            "50000/50000 [==============================] - 19s 371us/step - loss: 0.2771 - acc: 0.9136\n",
            "Epoch 95/200\n",
            "50000/50000 [==============================] - 18s 369us/step - loss: 0.2725 - acc: 0.9149\n",
            "Epoch 96/200\n",
            "50000/50000 [==============================] - 18s 369us/step - loss: 0.2644 - acc: 0.9154\n",
            "Epoch 97/200\n",
            "50000/50000 [==============================] - 18s 370us/step - loss: 0.2800 - acc: 0.9120\n",
            "Epoch 98/200\n",
            "50000/50000 [==============================] - 19s 372us/step - loss: 0.2699 - acc: 0.9158\n",
            "Epoch 99/200\n",
            "50000/50000 [==============================] - 18s 370us/step - loss: 0.2697 - acc: 0.9145\n",
            "Epoch 100/200\n",
            "50000/50000 [==============================] - 19s 371us/step - loss: 0.2698 - acc: 0.9144\n",
            "Epoch 101/200\n",
            "50000/50000 [==============================] - 19s 371us/step - loss: 0.2738 - acc: 0.9148\n",
            "Epoch 102/200\n",
            "50000/50000 [==============================] - 19s 372us/step - loss: 0.2643 - acc: 0.9160\n",
            "Epoch 103/200\n",
            "50000/50000 [==============================] - 19s 370us/step - loss: 0.2700 - acc: 0.9152\n",
            "Epoch 104/200\n",
            "50000/50000 [==============================] - 19s 371us/step - loss: 0.2634 - acc: 0.9164\n",
            "Epoch 105/200\n",
            "50000/50000 [==============================] - 19s 370us/step - loss: 0.2650 - acc: 0.9164\n",
            "Epoch 106/200\n",
            "50000/50000 [==============================] - 19s 371us/step - loss: 0.2725 - acc: 0.9150\n",
            "Epoch 107/200\n",
            "50000/50000 [==============================] - 19s 371us/step - loss: 0.2721 - acc: 0.9172\n",
            "Epoch 108/200\n",
            "50000/50000 [==============================] - 19s 370us/step - loss: 0.2728 - acc: 0.9152\n",
            "Epoch 109/200\n",
            "50000/50000 [==============================] - 19s 371us/step - loss: 0.2604 - acc: 0.9187\n",
            "Epoch 110/200\n",
            "50000/50000 [==============================] - 19s 370us/step - loss: 0.2617 - acc: 0.9182\n",
            "Epoch 111/200\n",
            "50000/50000 [==============================] - 19s 370us/step - loss: 0.2672 - acc: 0.9166\n",
            "Epoch 112/200\n",
            "50000/50000 [==============================] - 18s 369us/step - loss: 0.2639 - acc: 0.9183\n",
            "Epoch 113/200\n",
            "50000/50000 [==============================] - 19s 372us/step - loss: 0.2643 - acc: 0.9174\n",
            "Epoch 114/200\n",
            "50000/50000 [==============================] - 19s 372us/step - loss: 0.2561 - acc: 0.9190\n",
            "Epoch 115/200\n",
            "50000/50000 [==============================] - 19s 371us/step - loss: 0.2748 - acc: 0.9158\n",
            "Epoch 116/200\n",
            "50000/50000 [==============================] - 19s 371us/step - loss: 0.2693 - acc: 0.9172\n",
            "Epoch 117/200\n",
            "50000/50000 [==============================] - 19s 371us/step - loss: 0.2627 - acc: 0.9178\n",
            "Epoch 118/200\n",
            "50000/50000 [==============================] - 18s 369us/step - loss: 0.2615 - acc: 0.9186\n",
            "Epoch 119/200\n",
            "50000/50000 [==============================] - 19s 372us/step - loss: 0.2630 - acc: 0.9183\n",
            "Epoch 120/200\n",
            "50000/50000 [==============================] - 19s 372us/step - loss: 0.2511 - acc: 0.9229\n",
            "Epoch 121/200\n",
            "50000/50000 [==============================] - 18s 369us/step - loss: 0.2622 - acc: 0.9173\n",
            "Epoch 122/200\n",
            "50000/50000 [==============================] - 19s 370us/step - loss: 0.2577 - acc: 0.9202\n",
            "Epoch 123/200\n",
            "50000/50000 [==============================] - 19s 371us/step - loss: 0.2627 - acc: 0.9175\n",
            "Epoch 124/200\n",
            "50000/50000 [==============================] - 18s 370us/step - loss: 0.2724 - acc: 0.9155\n",
            "Epoch 125/200\n",
            "50000/50000 [==============================] - 18s 370us/step - loss: 0.2641 - acc: 0.9192\n",
            "Epoch 126/200\n",
            "50000/50000 [==============================] - 19s 371us/step - loss: 0.2617 - acc: 0.9197\n",
            "Epoch 127/200\n",
            "50000/50000 [==============================] - 19s 372us/step - loss: 0.2610 - acc: 0.9188\n",
            "Epoch 128/200\n",
            "50000/50000 [==============================] - 18s 370us/step - loss: 0.2597 - acc: 0.9194\n",
            "Epoch 129/200\n",
            "50000/50000 [==============================] - 18s 369us/step - loss: 0.2483 - acc: 0.9237\n",
            "Epoch 130/200\n",
            "50000/50000 [==============================] - 18s 369us/step - loss: 0.2613 - acc: 0.9206\n",
            "Epoch 131/200\n",
            "50000/50000 [==============================] - 18s 369us/step - loss: 0.2572 - acc: 0.9213\n",
            "Epoch 132/200\n",
            "50000/50000 [==============================] - 19s 370us/step - loss: 0.2572 - acc: 0.9211\n",
            "Epoch 133/200\n",
            "50000/50000 [==============================] - 18s 370us/step - loss: 0.2518 - acc: 0.9238\n",
            "Epoch 134/200\n",
            "50000/50000 [==============================] - 18s 369us/step - loss: 0.2639 - acc: 0.9209\n",
            "Epoch 135/200\n",
            "50000/50000 [==============================] - 19s 370us/step - loss: 0.2531 - acc: 0.9228\n",
            "Epoch 136/200\n",
            "50000/50000 [==============================] - 18s 370us/step - loss: 0.2560 - acc: 0.9229\n",
            "Epoch 137/200\n",
            "50000/50000 [==============================] - 19s 371us/step - loss: 0.2589 - acc: 0.9209\n",
            "Epoch 138/200\n",
            "50000/50000 [==============================] - 18s 369us/step - loss: 0.2530 - acc: 0.9222\n",
            "Epoch 139/200\n",
            "50000/50000 [==============================] - 19s 371us/step - loss: 0.2631 - acc: 0.9211\n",
            "Epoch 140/200\n",
            "50000/50000 [==============================] - 18s 369us/step - loss: 0.2572 - acc: 0.9227\n",
            "Epoch 141/200\n",
            "50000/50000 [==============================] - 18s 370us/step - loss: 0.2539 - acc: 0.9227\n",
            "Epoch 142/200\n",
            "50000/50000 [==============================] - 18s 370us/step - loss: 0.2557 - acc: 0.9228\n",
            "Epoch 143/200\n",
            "50000/50000 [==============================] - 18s 370us/step - loss: 0.2478 - acc: 0.9242\n",
            "Epoch 144/200\n",
            "50000/50000 [==============================] - 18s 368us/step - loss: 0.2616 - acc: 0.9226\n",
            "Epoch 145/200\n",
            "50000/50000 [==============================] - 18s 369us/step - loss: 0.2553 - acc: 0.9245\n",
            "Epoch 146/200\n",
            "50000/50000 [==============================] - 18s 368us/step - loss: 0.2565 - acc: 0.9227\n",
            "Epoch 147/200\n",
            "50000/50000 [==============================] - 19s 371us/step - loss: 0.2554 - acc: 0.9242\n",
            "Epoch 148/200\n",
            "50000/50000 [==============================] - 19s 370us/step - loss: 0.2578 - acc: 0.9232\n",
            "Epoch 149/200\n",
            "50000/50000 [==============================] - 18s 369us/step - loss: 0.2572 - acc: 0.9230\n",
            "Epoch 150/200\n",
            "50000/50000 [==============================] - 18s 369us/step - loss: 0.2589 - acc: 0.9223\n",
            "Epoch 151/200\n",
            "50000/50000 [==============================] - 18s 369us/step - loss: 0.2492 - acc: 0.9239\n",
            "Epoch 152/200\n",
            "50000/50000 [==============================] - 18s 370us/step - loss: 0.2539 - acc: 0.9243\n",
            "Epoch 153/200\n",
            "50000/50000 [==============================] - 19s 371us/step - loss: 0.2585 - acc: 0.9219\n",
            "Epoch 154/200\n",
            "50000/50000 [==============================] - 18s 370us/step - loss: 0.2648 - acc: 0.9217\n",
            "Epoch 155/200\n",
            "50000/50000 [==============================] - 19s 372us/step - loss: 0.2531 - acc: 0.9238\n",
            "Epoch 156/200\n",
            "50000/50000 [==============================] - 18s 369us/step - loss: 0.2515 - acc: 0.9244\n",
            "Epoch 157/200\n",
            "50000/50000 [==============================] - 18s 369us/step - loss: 0.2620 - acc: 0.9231\n",
            "Epoch 158/200\n",
            "50000/50000 [==============================] - 18s 370us/step - loss: 0.2555 - acc: 0.9223\n",
            "Epoch 159/200\n",
            "50000/50000 [==============================] - 18s 369us/step - loss: 0.2520 - acc: 0.9257\n",
            "Epoch 160/200\n",
            "50000/50000 [==============================] - 18s 369us/step - loss: 0.2507 - acc: 0.9266\n",
            "Epoch 161/200\n",
            "50000/50000 [==============================] - 18s 368us/step - loss: 0.2557 - acc: 0.9248\n",
            "Epoch 162/200\n",
            "50000/50000 [==============================] - 18s 369us/step - loss: 0.2529 - acc: 0.9263\n",
            "Epoch 163/200\n",
            "50000/50000 [==============================] - 18s 369us/step - loss: 0.2466 - acc: 0.9266\n",
            "Epoch 164/200\n",
            "50000/50000 [==============================] - 18s 369us/step - loss: 0.2447 - acc: 0.9281\n",
            "Epoch 165/200\n",
            "50000/50000 [==============================] - 19s 371us/step - loss: 0.2526 - acc: 0.9242\n",
            "Epoch 166/200\n",
            "50000/50000 [==============================] - 19s 370us/step - loss: 0.2524 - acc: 0.9234\n",
            "Epoch 167/200\n",
            "50000/50000 [==============================] - 18s 370us/step - loss: 0.2525 - acc: 0.9261\n",
            "Epoch 168/200\n",
            "50000/50000 [==============================] - 18s 369us/step - loss: 0.2466 - acc: 0.9267\n",
            "Epoch 169/200\n",
            "50000/50000 [==============================] - 19s 370us/step - loss: 0.2479 - acc: 0.9271\n",
            "Epoch 170/200\n",
            "50000/50000 [==============================] - 18s 369us/step - loss: 0.2468 - acc: 0.9273\n",
            "Epoch 171/200\n",
            "50000/50000 [==============================] - 18s 369us/step - loss: 0.2553 - acc: 0.9249\n",
            "Epoch 172/200\n",
            "50000/50000 [==============================] - 18s 369us/step - loss: 0.2448 - acc: 0.9288\n",
            "Epoch 173/200\n",
            "50000/50000 [==============================] - 19s 370us/step - loss: 0.2568 - acc: 0.9266\n",
            "Epoch 174/200\n",
            "50000/50000 [==============================] - 19s 371us/step - loss: 0.2526 - acc: 0.9266\n",
            "Epoch 175/200\n",
            "50000/50000 [==============================] - 18s 370us/step - loss: 0.2665 - acc: 0.9246\n",
            "Epoch 176/200\n",
            "50000/50000 [==============================] - 19s 370us/step - loss: 0.2459 - acc: 0.9283\n",
            "Epoch 177/200\n",
            "50000/50000 [==============================] - 18s 368us/step - loss: 0.2476 - acc: 0.9289\n",
            "Epoch 178/200\n",
            "50000/50000 [==============================] - 19s 372us/step - loss: 0.2470 - acc: 0.9283\n",
            "Epoch 179/200\n",
            "50000/50000 [==============================] - 18s 369us/step - loss: 0.2389 - acc: 0.9291\n",
            "Epoch 180/200\n",
            "50000/50000 [==============================] - 18s 370us/step - loss: 0.2415 - acc: 0.9299\n",
            "Epoch 181/200\n",
            "50000/50000 [==============================] - 18s 370us/step - loss: 0.2383 - acc: 0.9314\n",
            "Epoch 182/200\n",
            "50000/50000 [==============================] - 18s 369us/step - loss: 0.2436 - acc: 0.9294\n",
            "Epoch 183/200\n",
            "50000/50000 [==============================] - 19s 371us/step - loss: 0.2570 - acc: 0.9259\n",
            "Epoch 184/200\n",
            "50000/50000 [==============================] - 18s 370us/step - loss: 0.2651 - acc: 0.9250\n",
            "Epoch 185/200\n",
            "50000/50000 [==============================] - 18s 369us/step - loss: 0.2507 - acc: 0.9253\n",
            "Epoch 186/200\n",
            "50000/50000 [==============================] - 18s 369us/step - loss: 0.2488 - acc: 0.9289\n",
            "Epoch 187/200\n",
            "50000/50000 [==============================] - 18s 369us/step - loss: 0.2433 - acc: 0.9294\n",
            "Epoch 188/200\n",
            "50000/50000 [==============================] - 18s 369us/step - loss: 0.2501 - acc: 0.9272\n",
            "Epoch 189/200\n",
            "50000/50000 [==============================] - 19s 370us/step - loss: 0.2488 - acc: 0.9289\n",
            "Epoch 190/200\n",
            "50000/50000 [==============================] - 18s 369us/step - loss: 0.2537 - acc: 0.9272\n",
            "Epoch 191/200\n",
            "50000/50000 [==============================] - 18s 369us/step - loss: 0.2519 - acc: 0.9265\n",
            "Epoch 192/200\n",
            "50000/50000 [==============================] - 19s 370us/step - loss: 0.2476 - acc: 0.9283\n",
            "Epoch 193/200\n",
            "50000/50000 [==============================] - 18s 369us/step - loss: 0.2517 - acc: 0.9280\n",
            "Epoch 194/200\n",
            "50000/50000 [==============================] - 18s 370us/step - loss: 0.2586 - acc: 0.9258\n",
            "Epoch 195/200\n",
            "50000/50000 [==============================] - 18s 369us/step - loss: 0.2460 - acc: 0.9302\n",
            "Epoch 196/200\n",
            "50000/50000 [==============================] - 18s 367us/step - loss: 0.2417 - acc: 0.9314\n",
            "Epoch 197/200\n",
            "50000/50000 [==============================] - 19s 370us/step - loss: 0.2481 - acc: 0.9282\n",
            "Epoch 198/200\n",
            "50000/50000 [==============================] - 19s 370us/step - loss: 0.2479 - acc: 0.9297\n",
            "Epoch 199/200\n",
            "50000/50000 [==============================] - 19s 370us/step - loss: 0.2525 - acc: 0.9266\n",
            "Epoch 200/200\n",
            "50000/50000 [==============================] - 19s 370us/step - loss: 0.2392 - acc: 0.9314\n"
          ],
          "name": "stdout"
        },
        {
          "output_type": "error",
          "ename": "KeyError",
          "evalue": "ignored",
          "traceback": [
            "\u001b[0;31m---------------------------------------------------------------------------\u001b[0m",
            "\u001b[0;31mKeyError\u001b[0m                                  Traceback (most recent call last)",
            "\u001b[0;32m<ipython-input-67-e9711ce7efa8>\u001b[0m in \u001b[0;36m<module>\u001b[0;34m()\u001b[0m\n\u001b[1;32m      9\u001b[0m \u001b[0;34m\u001b[0m\u001b[0m\n\u001b[1;32m     10\u001b[0m \u001b[0;31m# plot model history\u001b[0m\u001b[0;34m\u001b[0m\u001b[0;34m\u001b[0m\u001b[0;34m\u001b[0m\u001b[0m\n\u001b[0;32m---> 11\u001b[0;31m \u001b[0mplot_model_history\u001b[0m\u001b[0;34m(\u001b[0m\u001b[0mmodel_info\u001b[0m\u001b[0;34m)\u001b[0m\u001b[0;34m\u001b[0m\u001b[0;34m\u001b[0m\u001b[0m\n\u001b[0m\u001b[1;32m     12\u001b[0m \u001b[0mprint\u001b[0m\u001b[0;34m(\u001b[0m\u001b[0;34m\"Model took %0.2f seconds to train\"\u001b[0m\u001b[0;34m%\u001b[0m\u001b[0;34m(\u001b[0m\u001b[0mend\u001b[0m \u001b[0;34m-\u001b[0m \u001b[0mstart\u001b[0m\u001b[0;34m)\u001b[0m\u001b[0;34m)\u001b[0m\u001b[0;34m\u001b[0m\u001b[0;34m\u001b[0m\u001b[0m\n\u001b[1;32m     13\u001b[0m \u001b[0;31m# compute test accuracy\u001b[0m\u001b[0;34m\u001b[0m\u001b[0;34m\u001b[0m\u001b[0;34m\u001b[0m\u001b[0m\n",
            "\u001b[0;32m<ipython-input-28-e05d9b01600e>\u001b[0m in \u001b[0;36mplot_model_history\u001b[0;34m(model_history)\u001b[0m\n\u001b[1;32m      3\u001b[0m     \u001b[0;31m# summarize history for accuracy\u001b[0m\u001b[0;34m\u001b[0m\u001b[0;34m\u001b[0m\u001b[0;34m\u001b[0m\u001b[0m\n\u001b[1;32m      4\u001b[0m     \u001b[0maxs\u001b[0m\u001b[0;34m[\u001b[0m\u001b[0;36m0\u001b[0m\u001b[0;34m]\u001b[0m\u001b[0;34m.\u001b[0m\u001b[0mplot\u001b[0m\u001b[0;34m(\u001b[0m\u001b[0mrange\u001b[0m\u001b[0;34m(\u001b[0m\u001b[0;36m1\u001b[0m\u001b[0;34m,\u001b[0m\u001b[0mlen\u001b[0m\u001b[0;34m(\u001b[0m\u001b[0mmodel_history\u001b[0m\u001b[0;34m.\u001b[0m\u001b[0mhistory\u001b[0m\u001b[0;34m[\u001b[0m\u001b[0;34m'acc'\u001b[0m\u001b[0;34m]\u001b[0m\u001b[0;34m)\u001b[0m\u001b[0;34m+\u001b[0m\u001b[0;36m1\u001b[0m\u001b[0;34m)\u001b[0m\u001b[0;34m,\u001b[0m\u001b[0mmodel_history\u001b[0m\u001b[0;34m.\u001b[0m\u001b[0mhistory\u001b[0m\u001b[0;34m[\u001b[0m\u001b[0;34m'acc'\u001b[0m\u001b[0;34m]\u001b[0m\u001b[0;34m)\u001b[0m\u001b[0;34m\u001b[0m\u001b[0;34m\u001b[0m\u001b[0m\n\u001b[0;32m----> 5\u001b[0;31m     \u001b[0maxs\u001b[0m\u001b[0;34m[\u001b[0m\u001b[0;36m0\u001b[0m\u001b[0;34m]\u001b[0m\u001b[0;34m.\u001b[0m\u001b[0mplot\u001b[0m\u001b[0;34m(\u001b[0m\u001b[0mrange\u001b[0m\u001b[0;34m(\u001b[0m\u001b[0;36m1\u001b[0m\u001b[0;34m,\u001b[0m\u001b[0mlen\u001b[0m\u001b[0;34m(\u001b[0m\u001b[0mmodel_history\u001b[0m\u001b[0;34m.\u001b[0m\u001b[0mhistory\u001b[0m\u001b[0;34m[\u001b[0m\u001b[0;34m'val_acc'\u001b[0m\u001b[0;34m]\u001b[0m\u001b[0;34m)\u001b[0m\u001b[0;34m+\u001b[0m\u001b[0;36m1\u001b[0m\u001b[0;34m)\u001b[0m\u001b[0;34m,\u001b[0m\u001b[0mmodel_history\u001b[0m\u001b[0;34m.\u001b[0m\u001b[0mhistory\u001b[0m\u001b[0;34m[\u001b[0m\u001b[0;34m'val_acc'\u001b[0m\u001b[0;34m]\u001b[0m\u001b[0;34m)\u001b[0m\u001b[0;34m\u001b[0m\u001b[0;34m\u001b[0m\u001b[0m\n\u001b[0m\u001b[1;32m      6\u001b[0m     \u001b[0maxs\u001b[0m\u001b[0;34m[\u001b[0m\u001b[0;36m0\u001b[0m\u001b[0;34m]\u001b[0m\u001b[0;34m.\u001b[0m\u001b[0mset_title\u001b[0m\u001b[0;34m(\u001b[0m\u001b[0;34m'Model Accuracy'\u001b[0m\u001b[0;34m)\u001b[0m\u001b[0;34m\u001b[0m\u001b[0;34m\u001b[0m\u001b[0m\n\u001b[1;32m      7\u001b[0m     \u001b[0maxs\u001b[0m\u001b[0;34m[\u001b[0m\u001b[0;36m0\u001b[0m\u001b[0;34m]\u001b[0m\u001b[0;34m.\u001b[0m\u001b[0mset_ylabel\u001b[0m\u001b[0;34m(\u001b[0m\u001b[0;34m'Accuracy'\u001b[0m\u001b[0;34m)\u001b[0m\u001b[0;34m\u001b[0m\u001b[0;34m\u001b[0m\u001b[0m\n",
            "\u001b[0;31mKeyError\u001b[0m: 'val_acc'"
          ]
        },
        {
          "output_type": "display_data",
          "data": {
            "image/png": "[encoded data removed]",
            "text/plain": [
              "<Figure size 1080x360 with 2 Axes>"
            ]
          },
          "metadata": {
            "tags": []
          }
        }
      ]
    },
    {
      "metadata": {
        "id": "ZQ5HnK5H1C5L",
        "colab_type": "code",
        "colab": {
          "base_uri": "https://localhost:8080/",
          "height": 34
        },
        "outputId": "5d3ea8d4-72ae-434c-cca3-75e7440fb07c"
      },
      "cell_type": "code",
      "source": [
        "score = model.evaluate(test_features, test_labels,batch_size=128)"
      ],
      "execution_count": 69,
      "outputs": [
        {
          "output_type": "stream",
          "text": [
            "10000/10000 [==============================] - 1s 118us/step\n"
          ],
          "name": "stdout"
        }
      ]
    },
    {
      "metadata": {
        "id": "wJShTOyT4G1g",
        "colab_type": "code",
        "colab": {
          "base_uri": "https://localhost:8080/",
          "height": 52
        },
        "outputId": "68c7b3f0-f7e2-47e6-d936-c14c19e4d1f5"
      },
      "cell_type": "code",
      "source": [
        "print('\\nTest result: %.3f loss: %.3f' % (score[1]*100,score[0]))\n"
      ],
      "execution_count": 70,
      "outputs": [
        {
          "output_type": "stream",
          "text": [
            "\n",
            "Test result: 83.050 loss: 0.703\n"
          ],
          "name": "stdout"
        }
      ]
    },
    {
      "metadata": {
        "id": "QElEQSbtN0h7",
        "colab_type": "code",
        "colab": {}
      },
      "cell_type": "code",
      "source": [
        ""
      ],
      "execution_count": 0,
      "outputs": []
    }
  ]
}